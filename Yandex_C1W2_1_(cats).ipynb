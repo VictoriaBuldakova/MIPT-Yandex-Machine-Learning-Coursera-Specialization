{
  "nbformat": 4,
  "nbformat_minor": 0,
  "metadata": {
    "colab": {
      "name": "Yandex C1W2 1 (cats).ipynb",
      "provenance": []
    },
    "kernelspec": {
      "name": "python3",
      "display_name": "Python 3"
    }
  },
  "cells": [
    {
      "cell_type": "markdown",
      "metadata": {
        "id": "0ZSE5wt9rdtN"
      },
      "source": [
        "Дан набор предложений, скопированных с Википедии. Каждое из них имеет \"кошачью тему\" в одном из трех смыслов:\n",
        "\n",
        "*   кошки (животные)\n",
        "*   UNIX-утилита cat для вывода содержимого файлов\n",
        "*   версии операционной системы OS X, названные в честь семейства кошачьих\n",
        "\n",
        "Ваша задача — найти два предложения, которые ближе всего по смыслу к расположенному в самой первой строке. В качестве меры близости по смыслу мы будем использовать косинусное расстояние.\n",
        "\n",
        "Составьте список всех слов, встречающихся в предложениях. Сопоставьте каждому слову индекс от нуля до (d - 1), где d — число различных слов в предложениях. Для этого удобно воспользоваться структурой dict.\n",
        "\n",
        "Создайте матрицу размера n * d, где n — число предложений. Заполните ее: элемент с индексом (i, j) в этой матрице должен быть равен количеству вхождений j-го слова в i-е предложение. У вас должна получиться матрица размера 22 * 254.\n",
        "\n",
        "Найдите косинусное расстояние от предложения в самой первой строке (In comparison to dogs, cats have not undergone...) до всех остальных с помощью функции scipy.spatial.distance.cosine. Какие номера у двух предложений, ближайших к нему по этому расстоянию (строки нумеруются с нуля)? Эти два числа и будут ответами на задание. Само предложение (In comparison to dogs, cats have not undergone... ) имеет индекс 0.\n",
        "\n",
        "Запишите полученные числа в файл, разделив пробелом. Обратите внимание, что файл должен состоять из одной строки, в конце которой не должно быть переноса. Пример файла с решением вы можете найти в конце задания (submission-1.txt)."
      ]
    },
    {
      "cell_type": "code",
      "metadata": {
        "id": "cVgQPFdjqtDy"
      },
      "source": [
        "import re\n",
        "import numpy as np"
      ],
      "execution_count": null,
      "outputs": []
    },
    {
      "cell_type": "code",
      "metadata": {
        "id": "hKiCUQ9dq7fQ"
      },
      "source": [
        "file_obj = open('sentences.txt', 'r')\n",
        "obj = file_obj.readlines()"
      ],
      "execution_count": null,
      "outputs": []
    },
    {
      "cell_type": "code",
      "metadata": {
        "id": "3Vwy9zGHqt-i"
      },
      "source": [
        "tokens = [] #list for sentences\n",
        "for line in obj:\n",
        "    token = re.split('[^A-Za-z]+', line.strip().lower())\n",
        "    tokens.append(token)\n",
        "    \n",
        "dic, counter = {}, 0\n",
        " \n",
        "for i in tokens: #sentences\n",
        "    for j in i:  #words\n",
        "        if j == '':\n",
        "            i.remove(j)\n",
        "            \n",
        "        if j not in dic.keys():\n",
        "            dic[j] = counter\n",
        "            counter += 1\n",
        "        \n",
        "d = max(dic.values())\n",
        "n = len(tokens)          "
      ],
      "execution_count": null,
      "outputs": []
    },
    {
      "cell_type": "code",
      "metadata": {
        "id": "zoiTMSNoqwps"
      },
      "source": [
        "matrix = np.array( [ [tokens[i].count(list(dic)[j]) for j in range(d + 1)] for i in range(n) ] ) #value matrix"
      ],
      "execution_count": null,
      "outputs": []
    },
    {
      "cell_type": "code",
      "metadata": {
        "id": "LVpCZH09qzwK"
      },
      "source": [
        "import scipy\n",
        "cos_list, counter = {}, 0\n",
        "\n",
        "for i in matrix:\n",
        "    cos_distance = scipy.spatial.distance.cosine(matrix[0], i )\n",
        "    cos_list[cos_distance] = counter\n",
        "    counter +=1\n",
        "    \n",
        "sorted_list = sorted(cos_list.keys())\n",
        "\n",
        "number_1 = cos_list.get(sorted_list[1]) \n",
        "number_2 = cos_list.get(sorted_list[2]) "
      ],
      "execution_count": null,
      "outputs": []
    },
    {
      "cell_type": "code",
      "metadata": {
        "id": "GVNDjLkuqzz-"
      },
      "source": [
        "file_obj = open('submission_1.txt', 'w') \n",
        "file_obj.write(str(number_1) + ' ')\n",
        "file_obj.write(str(number_2))\n",
        "file_obj.close()"
      ],
      "execution_count": null,
      "outputs": []
    },
    {
      "cell_type": "code",
      "metadata": {
        "id": "0jj-lC72q0AK"
      },
      "source": [
        "with open('submission_1.txt', 'r') as file_obj:\n",
        "    print(file_obj.read())"
      ],
      "execution_count": null,
      "outputs": []
    }
  ]
}