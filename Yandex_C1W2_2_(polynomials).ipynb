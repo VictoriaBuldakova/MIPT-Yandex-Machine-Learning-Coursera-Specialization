{
  "nbformat": 4,
  "nbformat_minor": 0,
  "metadata": {
    "colab": {
      "name": "Yandex C1W2 2 (polynomials).ipynb",
      "provenance": []
    },
    "kernelspec": {
      "name": "python3",
      "display_name": "Python 3"
    }
  },
  "cells": [
    {
      "cell_type": "markdown",
      "metadata": {
        "id": "EYLtNShLuNug"
      },
      "source": [
        "Задача 2: аппроксимация функции\n",
        "\n",
        "Рассмотрим сложную математическую функцию на отрезке [1, 15]:\n",
        "\n",
        "f(x) = sin(x / 5) * exp(x / 10) + 5 * exp(-x / 2)\n",
        "\n",
        "Она может описывать, например, зависимость оценок, которые выставляют определенному сорту вина эксперты, в зависимости от возраста этого вина. По сути, задача машинного обучения состоит в том, чтобы приблизить сложную зависимость с помощью функции из определенного семейства. В этом задании мы будем приближать указанную функцию с помощью многочленов.\n",
        "\n",
        "Как известно, многочлен степени n (то есть w_0 + w_1 x + w_2 x^2 + ... + w_n x^n) однозначно определяется любыми n + 1 различными точками, через которые он проходит. Это значит, что его коэффициенты w_0, ... w_n можно определить из системы линейных уравнений/\n",
        "\n",
        "\n",
        "Воспользуемся данным свойством и будем находить приближение функции многочленом, решая систему линейных уравнений.\n",
        "\n",
        "Сформируйте систему линейных уравнений (то есть задайте матрицу коэффициентов A и свободный вектор b) для многочлена первой степени, который должен совпадать с функцией f в точках 1 и 15. Решите данную систему с помощью функции scipy.linalg.solve. Нарисуйте функцию f и полученный многочлен. Хорошо ли он приближает исходную функцию?\n",
        "\n",
        "\n",
        "Повторите те же шаги для многочлена второй степени, который совпадает с функцией f в точках 1, 8 и 15. Улучшилось ли качество аппроксимации?\n",
        "Повторите те же шаги для многочлена третьей степени, который совпадает с функцией f в точках 1, 4, 10 и 15. Хорошо ли он аппроксимирует функцию? Коэффициенты данного многочлена (четыре числа в следующем порядке: w_0, w_1, w_2, w_3) являются ответом на задачу. Округлять коэффициенты не обязательно, но при желании можете произвести округление до второго знака (т.е. до числа вида 0.42)\n",
        "\n",
        "Запишите полученные числа в файл, разделив пробелами. Обратите внимание, что файл должен состоять из одной строки, в конце которой не должно быть переноса. Пример файла с решением вы можете найти в конце задания (submission-2.txt)."
      ]
    },
    {
      "cell_type": "code",
      "metadata": {
        "id": "F5ALcFyLsUTO"
      },
      "source": [
        "import numpy as np\n",
        "from matplotlib import pylab as plt\n",
        "%matplotlib inline"
      ],
      "execution_count": 1,
      "outputs": []
    },
    {
      "cell_type": "markdown",
      "metadata": {
        "id": "NioPpHsduNqj"
      },
      "source": [
        ""
      ]
    },
    {
      "cell_type": "code",
      "metadata": {
        "id": "b9dlYwAPs9yR"
      },
      "source": [
        "def f(x):\n",
        "    return np.sin(x / 5) * np.exp(x / 10) + 5 * np.exp(-x / 2)"
      ],
      "execution_count": 2,
      "outputs": []
    },
    {
      "cell_type": "code",
      "metadata": {
        "id": "exjiNAp_sdjG",
        "outputId": "1c263e3e-cd84-4965-dfea-32fa6b4cedbf",
        "colab": {
          "base_uri": "https://localhost:8080/"
        }
      },
      "source": [
        "# Полином первой степени\n",
        "\n",
        "a = np.array([[1, 1], [1, 15]])\n",
        "b = np.array([f(1), f(15)])\n",
        "w = np.linalg.solve(a, b)\n",
        "\n",
        "print(w)"
      ],
      "execution_count": 3,
      "outputs": [
        {
          "output_type": "stream",
          "text": [
            "[ 3.43914511 -0.18692825]\n"
          ],
          "name": "stdout"
        }
      ]
    },
    {
      "cell_type": "code",
      "metadata": {
        "id": "pTQjaSObsdv_",
        "outputId": "c49d62d3-1291-4d24-ce9e-28def761a0ae",
        "colab": {
          "base_uri": "https://localhost:8080/",
          "height": 299
        }
      },
      "source": [
        "x, x1 = np.linspace(1, 15),  np.linspace(1, 15)\n",
        "\n",
        "def y1(x):\n",
        "    return w[0] + w[1]*x\n",
        "plt.grid(True)\n",
        "plt.plot(x, f(x), x1, y1(x1))"
      ],
      "execution_count": 5,
      "outputs": [
        {
          "output_type": "execute_result",
          "data": {
            "text/plain": [
              "[<matplotlib.lines.Line2D at 0x7fdddaf07ef0>,\n",
              " <matplotlib.lines.Line2D at 0x7fddda923ef0>]"
            ]
          },
          "metadata": {
            "tags": []
          },
          "execution_count": 5
        },
        {
          "output_type": "display_data",
          "data": {
            "image/png": "[encoded data removed]",
            "text/plain": [
              "<Figure size 432x288 with 1 Axes>"
            ]
          },
          "metadata": {
            "tags": [],
            "needs_background": "light"
          }
        }
      ]
    },
    {
      "cell_type": "code",
      "metadata": {
        "id": "zkpjNfYnsdt2",
        "outputId": "e4a8bb4c-ac64-4433-eaae-0f90dcbac817",
        "colab": {
          "base_uri": "https://localhost:8080/"
        }
      },
      "source": [
        "# Полином второй степени\n",
        "\n",
        "a = np.array([[1, 1, 1], [1, 8, 64], [1, 15, 225]])\n",
        "b = np.array([f(1), f(8), f(15)])\n",
        "w = np.linalg.solve(a, b)\n",
        "\n",
        "print(w)"
      ],
      "execution_count": 17,
      "outputs": [
        {
          "output_type": "stream",
          "text": [
            "[ 3.32512949 -0.06531159 -0.00760104]\n"
          ],
          "name": "stdout"
        }
      ]
    },
    {
      "cell_type": "code",
      "metadata": {
        "id": "j1J08_YVsdrJ",
        "outputId": "af4e24cc-3a8b-4061-dbcd-30a297ad2e5d",
        "colab": {
          "base_uri": "https://localhost:8080/",
          "height": 299
        }
      },
      "source": [
        "x, x1 = np.linspace(1, 15),  np.linspace(1, 15)\n",
        "\n",
        "def y1(x):\n",
        "    return w[0] + w[1]*x + w[2]*(x**2)\n",
        "plt.grid(True)\n",
        "plt.plot(x, f(x), x1, y1(x1))"
      ],
      "execution_count": 18,
      "outputs": [
        {
          "output_type": "execute_result",
          "data": {
            "text/plain": [
              "[<matplotlib.lines.Line2D at 0x7fddda756c50>,\n",
              " <matplotlib.lines.Line2D at 0x7fddda742518>]"
            ]
          },
          "metadata": {
            "tags": []
          },
          "execution_count": 18
        },
        {
          "output_type": "display_data",
          "data": {
            "image/png": "[encoded data removed]",
            "text/plain": [
              "<Figure size 432x288 with 1 Axes>"
            ]
          },
          "metadata": {
            "tags": [],
            "needs_background": "light"
          }
        }
      ]
    },
    {
      "cell_type": "code",
      "metadata": {
        "id": "Nus6HoUZsdo0",
        "outputId": "ac1a6dd2-4bce-4cad-8df4-d80458f2d2d1",
        "colab": {
          "base_uri": "https://localhost:8080/"
        }
      },
      "source": [
        "#  Полином четвертой степени\n",
        "\n",
        "a = np.array([[1, 1, 1, 1], [1, 4, 16, 64], [1, 10, 100, 1000], [1, 15, 225, 3375]])\n",
        "b = np.array([f(1), f(4), f(10), f(15)])\n",
        "w = np.linalg.solve(a, b)\n",
        "\n",
        "print(w)"
      ],
      "execution_count": 12,
      "outputs": [
        {
          "output_type": "stream",
          "text": [
            "[ 4.36264154 -1.29552587  0.19333685 -0.00823565]\n"
          ],
          "name": "stdout"
        }
      ]
    },
    {
      "cell_type": "code",
      "metadata": {
        "id": "sgMA0j-EsdnA",
        "outputId": "d902ebc3-bf3f-4756-b980-0c019cee93d2",
        "colab": {
          "base_uri": "https://localhost:8080/",
          "height": 299
        }
      },
      "source": [
        "x, x1 = np.linspace(1, 15),  np.linspace(1, 15)\n",
        "\n",
        "def y1(x):\n",
        "    return w[0] + w[1]*x + w[2]*(x**2) + w[3]*(x**3)\n",
        "plt.grid(True)\n",
        "plt.plot(x, f(x), x1, y1(x1))"
      ],
      "execution_count": 14,
      "outputs": [
        {
          "output_type": "execute_result",
          "data": {
            "text/plain": [
              "[<matplotlib.lines.Line2D at 0x7fddda7ab748>,\n",
              " <matplotlib.lines.Line2D at 0x7fddda7566d8>]"
            ]
          },
          "metadata": {
            "tags": []
          },
          "execution_count": 14
        },
        {
          "output_type": "display_data",
          "data": {
            "image/png": "[encoded data removed]",
            "text/plain": [
              "<Figure size 432x288 with 1 Axes>"
            ]
          },
          "metadata": {
            "tags": [],
            "needs_background": "light"
          }
        }
      ]
    },
    {
      "cell_type": "code",
      "metadata": {
        "id": "fwg0_UtZss9c"
      },
      "source": [
        "file_obj = open('submission_2.txt', 'w') \n",
        "file_obj.write(str(w[0]) + ' ')\n",
        "file_obj.write(str(w[1]) + ' ')\n",
        "file_obj.write(str(w[2]) + ' ')\n",
        "file_obj.write(str(w[3]))\n",
        "file_obj.close()"
      ],
      "execution_count": 15,
      "outputs": []
    },
    {
      "cell_type": "code",
      "metadata": {
        "id": "V4ZEATUEsyeB",
        "outputId": "a030df0d-f2f8-4c4c-e750-812c48042f94",
        "colab": {
          "base_uri": "https://localhost:8080/"
        }
      },
      "source": [
        "with open('submission_2.txt', 'r') as file_obj:\n",
        "    print(file_obj.read())"
      ],
      "execution_count": 16,
      "outputs": [
        {
          "output_type": "stream",
          "text": [
            "4.362641535118072 -1.2955258656948434 0.1933368470215116 -0.008235651173320554\n"
          ],
          "name": "stdout"
        }
      ]
    }
  ]
}